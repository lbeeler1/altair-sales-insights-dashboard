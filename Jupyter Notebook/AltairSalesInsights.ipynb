{
 "cells": [
  {
   "cell_type": "code",
   "execution_count": null,
   "id": "51b9d49b",
   "metadata": {
    "vscode": {
     "languageId": "r"
    }
   },
   "outputs": [
    {
     "ename": "ERROR",
     "evalue": "Error in parse(text = x, srcfile = src): <text>:2:8: unexpected symbol\n1: # Import our data processing library (note: you may have to install this!)\n2: import pandas\n          ^\n",
     "output_type": "error",
     "traceback": [
      "Error in parse(text = x, srcfile = src): <text>:2:8: unexpected symbol\n1: # Import our data processing library (note: you may have to install this!)\n2: import pandas\n          ^\nTraceback:\n"
     ]
    }
   ],
   "source": [
    "# Import the data processing libraries (note: you may have to install this!)\n",
    "import pandas as pd\n",
    "import altair as alt\n",
    "\n",
    "# GET THE DATA\n",
    "# data = pd.read_csv(\"data/ECommerceData.csv\") # Option 1: Local path (for cloned repos)\n",
    "data = pd.read_csv(\"INSERT URL TO DATA ON GITHUB\") # Option 2: Online GitHub-hosted path (no cloning of repo required)\n",
    "\n",
    "#show the start of the data\n",
    "data.head()"
   ]
  },
  {
   "cell_type": "code",
   "execution_count": null,
   "id": "0d576547",
   "metadata": {
    "vscode": {
     "languageId": "r"
    }
   },
   "outputs": [],
   "source": []
  }
 ],
 "metadata": {
  "kernelspec": {
   "display_name": "R",
   "language": "R",
   "name": "ir"
  },
  "language_info": {
   "codemirror_mode": "r",
   "file_extension": ".r",
   "mimetype": "text/x-r-source",
   "name": "R",
   "pygments_lexer": "r",
   "version": "3.6.1"
  }
 },
 "nbformat": 4,
 "nbformat_minor": 5
}
